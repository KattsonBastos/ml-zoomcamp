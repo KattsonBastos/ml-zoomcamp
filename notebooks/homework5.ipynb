{
 "cells": [
  {
   "cell_type": "markdown",
   "id": "bf7bed43",
   "metadata": {},
   "source": [
    "# ML Zoomcamp Homework 5"
   ]
  },
  {
   "cell_type": "markdown",
   "id": "f46f5dc8",
   "metadata": {},
   "source": [
    "## Importing"
   ]
  },
  {
   "cell_type": "code",
   "execution_count": 21,
   "id": "24bf0429",
   "metadata": {},
   "outputs": [],
   "source": [
    "import pickle\n",
    "import requests"
   ]
  },
  {
   "cell_type": "markdown",
   "id": "0c046316",
   "metadata": {},
   "source": [
    "## Question 1\n",
    "Install Pipenv and check the version"
   ]
  },
  {
   "cell_type": "code",
   "execution_count": 3,
   "id": "217aca87",
   "metadata": {},
   "outputs": [
    {
     "name": "stdout",
     "output_type": "stream",
     "text": [
      "\u001b[1mpipenv\u001b[0m, version 2022.10.9\n",
      "\u001b[0m"
     ]
    }
   ],
   "source": [
    "!pipenv --version"
   ]
  },
  {
   "cell_type": "markdown",
   "id": "f5f422d6",
   "metadata": {},
   "source": [
    "## Question 2"
   ]
  },
  {
   "cell_type": "code",
   "execution_count": 4,
   "id": "ee395ae5",
   "metadata": {},
   "outputs": [
    {
     "name": "stdout",
     "output_type": "stream",
     "text": [
      "\u001b[1mCreating a virtualenv for this project...\u001b[0m\n",
      "Pipfile: \u001b[33m\u001b[1m/home/ubuntu/zoomcamp/ml-zoomcamp/notebooks/Pipfile\u001b[0m\n",
      "\u001b[1mUsing\u001b[0m \u001b[33m\u001b[1m/usr/bin/python3\u001b[0m \u001b[32m(3.10.4)\u001b[0m \u001b[1mto create virtualenv...\u001b[0m\n",
      "⠴\u001b[0m Creating virtual environment...\u001b[K\u001b[36mcreated virtual environment CPython3.10.4.final.0-64 in 1798ms\n",
      "  creator Venv(dest=/home/ubuntu/.local/share/virtualenvs/notebooks-gsBxHcfw, clear=False, no_vcs_ignore=False, global=False, describe=CPython3Posix)\n",
      "  seeder FromAppData(download=False, pip=bundle, setuptools=bundle, wheel=bundle, via=copy, app_data_dir=/home/ubuntu/.local/share/virtualenv)\n",
      "    added seed packages: pip==22.2.2, setuptools==65.3.0, wheel==0.37.1\n",
      "  activators BashActivator,CShellActivator,FishActivator,NushellActivator,PowerShellActivator,PythonActivator\n",
      "\u001b[0m\n",
      "\u001b[K\u001b[?25h\u001b[32m\u001b[22m✔ Successfully created virtual environment!\u001b[39m\u001b[22m\u001b[0m \n",
      "\u001b[32mVirtualenv location: /home/ubuntu/.local/share/virtualenvs/notebooks-gsBxHcfw\u001b[0m\n",
      "\u001b[1mCreating a Pipfile for this project...\u001b[0m\n",
      "\u001b[32m\u001b[1mInstalling scikit-learn==1.0.2...\u001b[0m\n",
      "\u001b[K\u001b[1mAdding\u001b[0m \u001b[32m\u001b[1mscikit-learn\u001b[0m \u001b[1mto Pipfile's\u001b[0m \u001b[33m\u001b[1m[packages]\u001b[0m\u001b[1m...\u001b[0m\n",
      "\u001b[K\u001b[?25h✔ Installation Succeeded\u001b[0m \n",
      "\u001b[1mPipfile.lock not found, creating...\u001b[0m\n",
      "Locking\u001b[0m \u001b[33m[packages]\u001b[0m dependencies...\u001b[0m\n",
      "\u001b[KBuilding requirements...\n",
      "\u001b[KResolving dependencies...\n",
      "\u001b[K\u001b[?25h\u001b[32m\u001b[22m✔ Success!\u001b[39m\u001b[22m\u001b[0m \n",
      "Locking\u001b[0m \u001b[33m[dev-packages]\u001b[0m dependencies...\u001b[0m\n",
      "\u001b[1mUpdated Pipfile.lock (647a3b052e29c226ea602625ea40367519d09bc3b8e354609d0ad183b09791c1)!\u001b[0m\n",
      "\u001b[1mInstalling dependencies from Pipfile.lock (9791c1)...\u001b[0m\n",
      "To activate this project's virtualenv, run \u001b[33mpipenv shell\u001b[0m.\n",
      "Alternatively, run a command inside the virtualenv with \u001b[33mpipenv run\u001b[0m.\n",
      "\u001b[0m"
     ]
    }
   ],
   "source": [
    "!pipenv install scikit-learn==1.0.2"
   ]
  },
  {
   "cell_type": "code",
   "execution_count": 10,
   "id": "7bcd0ade",
   "metadata": {},
   "outputs": [
    {
     "name": "stdout",
     "output_type": "stream",
     "text": [
      "{\r\n",
      "    \"_meta\": {\r\n",
      "        \"hash\": {\r\n",
      "            \"sha256\": \"647a3b052e29c226ea602625ea40367519d09bc3b8e354609d0ad183b09791c1\"\r\n",
      "        },\r\n",
      "        \"pipfile-spec\": 6,\r\n",
      "        \"requires\": {\r\n",
      "            \"python_version\": \"3.10\"\r\n",
      "        },\r\n",
      "        \"sources\": [\r\n",
      "            {\r\n",
      "                \"name\": \"pypi\",\r\n",
      "                \"url\": \"https://pypi.org/simple\",\r\n",
      "                \"verify_ssl\": true\r\n",
      "            }\r\n",
      "        ]\r\n",
      "    },\r\n",
      "    \"default\": {\r\n",
      "        \"joblib\": {\r\n",
      "            \"hashes\": [\r\n",
      "                \"sha256:091138ed78f800342968c523bdde947e7a305b8594b910a0fea2ab83c3c6d385\",\r\n",
      "                \"sha256:e1cee4a79e4af22881164f218d4311f60074197fb707e082e803b61f6d137018\"\r\n",
      "            ],\r\n",
      "            \"markers\": \"python_version >= '3.7'\",\r\n",
      "            \"version\": \"==1.2.0\"\r\n",
      "        },\r\n",
      "        \"numpy\": {\r\n",
      "            \"hashes\": [\r\n",
      "                \"sha256:004f0efcb2fe1c0bd6ae1fcfc69cc8b6bf2407e0f18be308612007a0762b4089\",\r\n",
      "                \"sha256:09f6b7bdffe57fc61d869a22f506049825d707b288039d30f26a0d0d8ea05164\",\r\n",
      "                \"sha256:0ea3f98a0ffce3f8f57675eb9119f3f4edb81888b6874bc1953f91e0b1d4f440\",\r\n",
      "                \"sha256:17c0e467ade9bda685d5ac7f5fa729d8d3e76b23195471adae2d6a6941bd2c18\",\r\n",
      "                \"sha256:1f27b5322ac4067e67c8f9378b41c746d8feac8bdd0e0ffede5324667b8a075c\",\r\n",
      "                \"sha256:22d43376ee0acd547f3149b9ec12eec2f0ca4a6ab2f61753c5b29bb3e795ac4d\",\r\n",
      "                \"sha256:2ad3ec9a748a8943e6eb4358201f7e1c12ede35f510b1a2221b70af4bb64295c\",\r\n",
      "                \"sha256:301c00cf5e60e08e04d842fc47df641d4a181e651c7135c50dc2762ffe293dbd\",\r\n",
      "                \"sha256:39a664e3d26ea854211867d20ebcc8023257c1800ae89773cbba9f9e97bae036\",\r\n",
      "                \"sha256:51bf49c0cd1d52be0a240aa66f3458afc4b95d8993d2d04f0d91fa60c10af6cd\",\r\n",
      "                \"sha256:78a63d2df1d947bd9d1b11d35564c2f9e4b57898aae4626638056ec1a231c40c\",\r\n",
      "                \"sha256:7cd1328e5bdf0dee621912f5833648e2daca72e3839ec1d6695e91089625f0b4\",\r\n",
      "                \"sha256:8355fc10fd33a5a70981a5b8a0de51d10af3688d7a9e4a34fcc8fa0d7467bb7f\",\r\n",
      "                \"sha256:8c79d7cf86d049d0c5089231a5bcd31edb03555bd93d81a16870aa98c6cfb79d\",\r\n",
      "                \"sha256:91b8d6768a75247026e951dce3b2aac79dc7e78622fc148329135ba189813584\",\r\n",
      "                \"sha256:94c15ca4e52671a59219146ff584488907b1f9b3fc232622b47e2cf832e94fb8\",\r\n",
      "                \"sha256:98dcbc02e39b1658dc4b4508442a560fe3ca5ca0d989f0df062534e5ca3a5c1a\",\r\n",
      "                \"sha256:a64403f634e5ffdcd85e0b12c08f04b3080d3e840aef118721021f9b48fc1460\",\r\n",
      "                \"sha256:bc6e8da415f359b578b00bcfb1d08411c96e9a97f9e6c7adada554a0812a6cc6\",\r\n",
      "                \"sha256:bdc9febce3e68b697d931941b263c59e0c74e8f18861f4064c1f712562903411\",\r\n",
      "                \"sha256:c1ba66c48b19cc9c2975c0d354f24058888cdc674bebadceb3cdc9ec403fb5d1\",\r\n",
      "                \"sha256:c9f707b5bb73bf277d812ded9896f9512a43edff72712f31667d0a8c2f8e71ee\",\r\n",
      "                \"sha256:d5422d6a1ea9b15577a9432e26608c73a78faf0b9039437b075cf322c92e98e7\",\r\n",
      "                \"sha256:e5d5420053bbb3dd64c30e58f9363d7a9c27444c3648e61460c1237f9ec3fa14\",\r\n",
      "                \"sha256:e868b0389c5ccfc092031a861d4e158ea164d8b7fdbb10e3b5689b4fc6498df6\",\r\n",
      "                \"sha256:efd9d3abe5774404becdb0748178b48a218f1d8c44e0375475732211ea47c67e\",\r\n",
      "                \"sha256:f8c02ec3c4c4fcb718fdf89a6c6f709b14949408e8cf2a2be5bfa9c49548fd85\",\r\n",
      "                \"sha256:ffcf105ecdd9396e05a8e58e81faaaf34d3f9875f137c7372450baa5d77c9a54\"\r\n",
      "            ],\r\n",
      "            \"markers\": \"python_version >= '3.8'\",\r\n",
      "            \"version\": \"==1.23.3\"\r\n",
      "        },\r\n",
      "        \"scikit-learn\": {\r\n",
      "            \"hashes\": [\r\n",
      "                \"sha256:08ef968f6b72033c16c479c966bf37ccd49b06ea91b765e1cc27afefe723920b\",\r\n",
      "                \"sha256:158faf30684c92a78e12da19c73feff9641a928a8024b4fa5ec11d583f3d8a87\",\r\n",
      "                \"sha256:16455ace947d8d9e5391435c2977178d0ff03a261571e67f627c8fee0f9d431a\",\r\n",
      "                \"sha256:245c9b5a67445f6f044411e16a93a554edc1efdcce94d3fc0bc6a4b9ac30b752\",\r\n",
      "                \"sha256:285db0352e635b9e3392b0b426bc48c3b485512d3b4ac3c7a44ec2a2ba061e66\",\r\n",
      "                \"sha256:2f3b453e0b149898577e301d27e098dfe1a36943f7bb0ad704d1e548efc3b448\",\r\n",
      "                \"sha256:46f431ec59dead665e1370314dbebc99ead05e1c0a9df42f22d6a0e00044820f\",\r\n",
      "                \"sha256:55f2f3a8414e14fbee03782f9fe16cca0f141d639d2b1c1a36779fa069e1db57\",\r\n",
      "                \"sha256:5cb33fe1dc6f73dc19e67b264dbb5dde2a0539b986435fdd78ed978c14654830\",\r\n",
      "                \"sha256:75307d9ea39236cad7eea87143155eea24d48f93f3a2f9389c817f7019f00705\",\r\n",
      "                \"sha256:7626a34eabbf370a638f32d1a3ad50526844ba58d63e3ab81ba91e2a7c6d037e\",\r\n",
      "                \"sha256:7a93c1292799620df90348800d5ac06f3794c1316ca247525fa31169f6d25855\",\r\n",
      "                \"sha256:7d6b2475f1c23a698b48515217eb26b45a6598c7b1840ba23b3c5acece658dbb\",\r\n",
      "                \"sha256:80095a1e4b93bd33261ef03b9bc86d6db649f988ea4dbcf7110d0cded8d7213d\",\r\n",
      "                \"sha256:85260fb430b795d806251dd3bb05e6f48cdc777ac31f2bcf2bc8bbed3270a8f5\",\r\n",
      "                \"sha256:9369b030e155f8188743eb4893ac17a27f81d28a884af460870c7c072f114243\",\r\n",
      "                \"sha256:a053a6a527c87c5c4fa7bf1ab2556fa16d8345cf99b6c5a19030a4a7cd8fd2c0\",\r\n",
      "                \"sha256:a90b60048f9ffdd962d2ad2fb16367a87ac34d76e02550968719eb7b5716fd10\",\r\n",
      "                \"sha256:a999c9f02ff9570c783069f1074f06fe7386ec65b84c983db5aeb8144356a355\",\r\n",
      "                \"sha256:b1391d1a6e2268485a63c3073111fe3ba6ec5145fc957481cfd0652be571226d\",\r\n",
      "                \"sha256:b54a62c6e318ddbfa7d22c383466d38d2ee770ebdb5ddb668d56a099f6eaf75f\",\r\n",
      "                \"sha256:b5870959a5484b614f26d31ca4c17524b1b0317522199dc985c3b4256e030767\",\r\n",
      "                \"sha256:bc3744dabc56b50bec73624aeca02e0def06b03cb287de26836e730659c5d29c\",\r\n",
      "                \"sha256:d93d4c28370aea8a7cbf6015e8a669cd5d69f856cc2aa44e7a590fb805bb5583\",\r\n",
      "                \"sha256:d9aac97e57c196206179f674f09bc6bffcd0284e2ba95b7fe0b402ac3f986023\",\r\n",
      "                \"sha256:da3c84694ff693b5b3194d8752ccf935a665b8b5edc33a283122f4273ca3e687\",\r\n",
      "                \"sha256:e174242caecb11e4abf169342641778f68e1bfaba80cd18acd6bc84286b9a534\",\r\n",
      "                \"sha256:eabceab574f471de0b0eb3f2ecf2eee9f10b3106570481d007ed1c84ebf6d6a1\",\r\n",
      "                \"sha256:f14517e174bd7332f1cca2c959e704696a5e0ba246eb8763e6c24876d8710049\",\r\n",
      "                \"sha256:fa38a1b9b38ae1fad2863eff5e0d69608567453fdfc850c992e6e47eb764e846\",\r\n",
      "                \"sha256:ff3fa8ea0e09e38677762afc6e14cad77b5e125b0ea70c9bba1992f02c93b028\",\r\n",
      "                \"sha256:ff746a69ff2ef25f62b36338c615dd15954ddc3ab8e73530237dd73235e76d62\"\r\n",
      "            ],\r\n",
      "            \"index\": \"pypi\",\r\n",
      "            \"version\": \"==1.0.2\"\r\n",
      "        },\r\n",
      "        \"scipy\": {\r\n",
      "            \"hashes\": [\r\n",
      "                \"sha256:0e9c83dccac06f3b9aa02df69577f239758d5d0d0c069673fb0b47ecb971983d\",\r\n",
      "                \"sha256:148cb6f53d9d10dafde848e9aeb1226bf2809d16dc3221b2fa568130b6f2e586\",\r\n",
      "                \"sha256:17be1a7c68ec4c49d8cd4eb1655d55d14a54ab63012296bdd5921c92dc485acd\",\r\n",
      "                \"sha256:1e3b23a82867018cd26255dc951789a7c567921622073e1113755866f1eae928\",\r\n",
      "                \"sha256:22380e076a162e81b659d53d75b02e9c75ad14ea2d53d9c645a12543414e2150\",\r\n",
      "                \"sha256:4012dbe540732311b8f4388b7e1482eb43a7cc0435bbf2b9916b3d6c38fb8d01\",\r\n",
      "                \"sha256:5994a8232cc6510a8e85899661df2d11198bf362f0ffe6fbd5c0aca17ab46ce3\",\r\n",
      "                \"sha256:61b95283529712101bfb7c87faf94cb86ed9e64de079509edfe107e5cfa55733\",\r\n",
      "                \"sha256:658fd31c6ad4eb9fa3fd460fcac779f70a6bc7480288a211b7658a25891cf01d\",\r\n",
      "                \"sha256:7b2608b3141c257d01ae772e23b3de9e04d27344e6b68a890883795229cb7191\",\r\n",
      "                \"sha256:82e8bfb352aa9dce9a0ffe81f4c369a2c87c85533519441686f59f21d8c09697\",\r\n",
      "                \"sha256:885b7ac56d7460544b2ef89ab9feafa30f4264c9825d975ef690608d07e6cc55\",\r\n",
      "                \"sha256:8c8c29703202c39d699b0d6b164bde5501c212005f20abf46ae322b9307c8a41\",\r\n",
      "                \"sha256:92c5e627a0635ca02e6494bbbdb74f98d93ac8730416209d61de3b70c8a821be\",\r\n",
      "                \"sha256:99e7720caefb8bca6ebf05c7d96078ed202881f61e0c68bd9e0f3e8097d6f794\",\r\n",
      "                \"sha256:a72297eb9702576bd8f626bb488fd32bb35349d3120fc4a5e733db137f06c9a6\",\r\n",
      "                \"sha256:aa270cc6080c987929335c4cb94e8054fee9a6058cecff22276fa5dbab9856fc\",\r\n",
      "                \"sha256:b6194da32e0ce9200b2eda4eb4edb89c5cb8b83d6deaf7c35f8ad3d5d7627d5c\",\r\n",
      "                \"sha256:bbed414fc25d64bd6d1613dc0286fbf91902219b8be63ad254525162235b67e9\",\r\n",
      "                \"sha256:d6cb1f92ded3fc48f7dbe94d20d7b9887e13b874e79043907de541c841563b4c\",\r\n",
      "                \"sha256:ee4ceed204f269da19f67f0115a85d3a2cd8547185037ad99a4025f9c61d02e9\"\r\n",
      "            ],\r\n",
      "            \"markers\": \"python_version >= '3.8'\",\r\n",
      "            \"version\": \"==1.9.2\"\r\n",
      "        },\r\n",
      "        \"threadpoolctl\": {\r\n",
      "            \"hashes\": [\r\n",
      "                \"sha256:8b99adda265feb6773280df41eece7b2e6561b772d21ffd52e372f999024907b\",\r\n",
      "                \"sha256:a335baacfaa4400ae1f0d8e3a58d6674d2f8828e3716bb2802c44955ad391380\"\r\n",
      "            ],\r\n",
      "            \"markers\": \"python_version >= '3.6'\",\r\n",
      "            \"version\": \"==3.1.0\"\r\n",
      "        }\r\n",
      "    },\r\n",
      "    \"develop\": {}\r\n",
      "}\r\n"
     ]
    }
   ],
   "source": [
    "!cat ./hw5/Pipfile.lock"
   ]
  },
  {
   "cell_type": "code",
   "execution_count": 1,
   "id": "f3da6ae5",
   "metadata": {},
   "outputs": [
    {
     "name": "stderr",
     "output_type": "stream",
     "text": [
      "--2022-10-10 00:49:54--  https://raw.githubusercontent.com/alexeygrigorev/mlbookcamp-code/master/course-zoomcamp/cohorts/2022/05-deployment/homework/model1.bin\n",
      "Resolving raw.githubusercontent.com (raw.githubusercontent.com)... 185.199.110.133, 185.199.111.133, 185.199.109.133, ...\n",
      "Connecting to raw.githubusercontent.com (raw.githubusercontent.com)|185.199.110.133|:443... connected.\n",
      "HTTP request sent, awaiting response... 200 OK\n",
      "Length: 889 [application/octet-stream]\n",
      "Saving to: ‘../models/model1.bin’\n",
      "\n",
      "     0K                                                       100% 54.7M=0s\n",
      "\n",
      "2022-10-10 00:49:54 (54.7 MB/s) - ‘../models/model1.bin’ saved [889/889]\n",
      "\n",
      "--2022-10-10 00:49:54--  https://raw.githubusercontent.com/alexeygrigorev/mlbookcamp-code/master/course-zoomcamp/cohorts/2022/05-deployment/homework/dv.bin\n",
      "Resolving raw.githubusercontent.com (raw.githubusercontent.com)... 185.199.109.133, 185.199.108.133, 185.199.111.133, ...\n",
      "Connecting to raw.githubusercontent.com (raw.githubusercontent.com)|185.199.109.133|:443... connected.\n",
      "HTTP request sent, awaiting response... 200 OK\n",
      "Length: 333 [application/octet-stream]\n",
      "Saving to: ‘../models/dv.bin’\n",
      "\n",
      "     0K                                                       100% 21.7M=0s\n",
      "\n",
      "2022-10-10 00:49:54 (21.7 MB/s) - ‘../models/dv.bin’ saved [333/333]\n",
      "\n"
     ]
    }
   ],
   "source": [
    "%%bash\n",
    "\n",
    "PREFIX=https://raw.githubusercontent.com/alexeygrigorev/mlbookcamp-code/master/course-zoomcamp/cohorts/2022/05-deployment/homework\n",
    "wget -O ../models/model1.bin $PREFIX/model1.bin\n",
    "wget -O ../models/dv.bin $PREFIX/dv.bin"
   ]
  },
  {
   "cell_type": "markdown",
   "id": "5718bde0",
   "metadata": {},
   "source": [
    "## Question 3"
   ]
  },
  {
   "cell_type": "code",
   "execution_count": 15,
   "id": "0ba6d4cf",
   "metadata": {},
   "outputs": [],
   "source": [
    "model_path = '../models/model1.bin'\n",
    "dv_path = '../models/dv.bin'"
   ]
  },
  {
   "cell_type": "code",
   "execution_count": 16,
   "id": "36a5874b",
   "metadata": {},
   "outputs": [],
   "source": [
    "# load the model from disk\n",
    "loaded_model = pickle.load(open(model_path, 'rb'))\n",
    "loaded_dv = pickle.load(open(dv_path, 'rb'))"
   ]
  },
  {
   "cell_type": "code",
   "execution_count": 17,
   "id": "b97c7946",
   "metadata": {},
   "outputs": [],
   "source": [
    "client = {\"reports\": 0, \"share\": 0.001694, \"expenditure\": 0.12, \"owner\": \"yes\"}"
   ]
  },
  {
   "cell_type": "code",
   "execution_count": 18,
   "id": "b44d34f5",
   "metadata": {},
   "outputs": [],
   "source": [
    "X = loaded_dv.transform(client)"
   ]
  },
  {
   "cell_type": "code",
   "execution_count": 19,
   "id": "49be8c3d",
   "metadata": {},
   "outputs": [
    {
     "data": {
      "text/plain": [
       "array([[0.83786586, 0.16213414]])"
      ]
     },
     "execution_count": 19,
     "metadata": {},
     "output_type": "execute_result"
    }
   ],
   "source": [
    "loaded_model.predict_proba(X)"
   ]
  },
  {
   "cell_type": "markdown",
   "id": "c05870cb",
   "metadata": {},
   "source": [
    "## Question 4"
   ]
  },
  {
   "cell_type": "code",
   "execution_count": 29,
   "id": "7fad2601",
   "metadata": {},
   "outputs": [
    {
     "data": {
      "text/plain": [
       "{'approved': True, 'credit_probability': 0.9282218018527452}"
      ]
     },
     "execution_count": 29,
     "metadata": {},
     "output_type": "execute_result"
    }
   ],
   "source": [
    "url = \"http://localhost:9696/predict\"\n",
    "client = {\"reports\": 0, \"share\": 0.245, \"expenditure\": 3.438, \"owner\": \"yes\"}\n",
    "requests.post(url, json=client).json()"
   ]
  },
  {
   "cell_type": "markdown",
   "id": "dd9aafd6",
   "metadata": {},
   "source": [
    "## Question 5"
   ]
  },
  {
   "cell_type": "code",
   "execution_count": 30,
   "id": "f8ca27c3",
   "metadata": {},
   "outputs": [
    {
     "name": "stdout",
     "output_type": "stream",
     "text": [
      "REPOSITORY              TAG           IMAGE ID       CREATED         SIZE\r\n",
      "svizor/zoomcamp-model   3.9.12-slim   571a6fdc554b   7 days ago      125MB\r\n",
      "hello-world             latest        feb5d9fea6a5   12 months ago   13.3kB\r\n"
     ]
    }
   ],
   "source": [
    "!docker image ls"
   ]
  },
  {
   "cell_type": "markdown",
   "id": "be75efe8",
   "metadata": {},
   "source": [
    "## Question 6"
   ]
  },
  {
   "cell_type": "markdown",
   "id": "822d367e",
   "metadata": {},
   "source": [
    "Requesting from container with model 2"
   ]
  },
  {
   "cell_type": "code",
   "execution_count": 32,
   "id": "1af2a308",
   "metadata": {},
   "outputs": [
    {
     "data": {
      "text/plain": [
       "{'approved': True, 'credit_probability': 0.7692649226628628}"
      ]
     },
     "execution_count": 32,
     "metadata": {},
     "output_type": "execute_result"
    }
   ],
   "source": [
    "url = \"http://localhost:9696/predict\"\n",
    "client = {\"reports\": 0, \"share\": 0.245, \"expenditure\": 3.438, \"owner\": \"yes\"}\n",
    "requests.post(url, json=client).json()"
   ]
  },
  {
   "cell_type": "code",
   "execution_count": null,
   "id": "69c5c0d5",
   "metadata": {},
   "outputs": [],
   "source": []
  }
 ],
 "metadata": {
  "kernelspec": {
   "display_name": "Python 3 (ipykernel)",
   "language": "python",
   "name": "python3"
  },
  "language_info": {
   "codemirror_mode": {
    "name": "ipython",
    "version": 3
   },
   "file_extension": ".py",
   "mimetype": "text/x-python",
   "name": "python",
   "nbconvert_exporter": "python",
   "pygments_lexer": "ipython3",
   "version": "3.9.12"
  }
 },
 "nbformat": 4,
 "nbformat_minor": 5
}
